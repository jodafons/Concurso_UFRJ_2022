{
 "cells": [
  {
   "cell_type": "code",
   "execution_count": 21,
   "id": "f2b7b778-ff4f-4787-8b93-c91dbffc6d7d",
   "metadata": {},
   "outputs": [],
   "source": [
    "import numpy as np\n",
    "import pandas as pd\n",
    "import bibtexparser\n",
    "import arxiv\n",
    "from tqdm import tqdm\n",
    "# Take first page from each PDF\n",
    "from PyPDF2 import PdfFileReader, PdfFileWriter\n",
    "import os"
   ]
  },
  {
   "cell_type": "code",
   "execution_count": 22,
   "id": "7393d7b7-b421-456d-bcd7-4d1546cac468",
   "metadata": {},
   "outputs": [],
   "source": [
    "path = 'inspire.bib'"
   ]
  },
  {
   "cell_type": "code",
   "execution_count": 23,
   "id": "412c32b5-334b-4b41-8d0f-b60edbb56831",
   "metadata": {},
   "outputs": [],
   "source": [
    "with open(path) as f:\n",
    "    database = bibtexparser.load(f)"
   ]
  },
  {
   "cell_type": "code",
   "execution_count": 24,
   "id": "464754ec-6ba8-49f1-bc79-7acda78428ce",
   "metadata": {},
   "outputs": [],
   "source": [
    "my_df = pd.DataFrame(database.entries)"
   ]
  },
  {
   "cell_type": "code",
   "execution_count": 25,
   "id": "6637f45b-f437-487d-8818-bd7fe76e10f9",
   "metadata": {},
   "outputs": [
    {
     "data": {
      "text/plain": [
       "(215, 16)"
      ]
     },
     "execution_count": 25,
     "metadata": {},
     "output_type": "execute_result"
    }
   ],
   "source": [
    "my_df.shape"
   ]
  },
  {
   "cell_type": "code",
   "execution_count": 26,
   "id": "9ead40f3-220b-4f14-b059-6075f5287808",
   "metadata": {},
   "outputs": [
    {
     "data": {
      "text/plain": [
       "array(['JHEP', 'Phys. Rev. D', 'Eur. Phys. J. C', 'Phys. Rev. Lett.',\n",
       "       'Phys. Lett. B', 'Phys. Rev. C', 'JINST',\n",
       "       'Comput. Softw. Big Sci.', 'Nature Phys.', 'PoS'], dtype=object)"
      ]
     },
     "execution_count": 26,
     "metadata": {},
     "output_type": "execute_result"
    }
   ],
   "source": [
    "my_df['journal'].unique()"
   ]
  },
  {
   "cell_type": "code",
   "execution_count": 27,
   "id": "231a235d-195b-46df-866b-4256bad7d486",
   "metadata": {},
   "outputs": [],
   "source": [
    "qualis = {\n",
    "            'Phys. Rev. D'    : ('PHYSICAL REVIEW D (PARTICLES, FIELDS, GRAVITATION AND COSMOLOGY)', 'A2'),\n",
    "            'Phys. Lett. B'   : ('MODERN PHYSICS LETTERS B', 'B5'), # not allow\n",
    "            'Eur. Phys. J. C' : ('The European Physical Journal C', '0'), \n",
    "            'Phys. Rev. Lett.': ('PHYSICAL REVIEW LETTERS', 'A1'),\n",
    "            'Phys. Rev. C'    : ('PHYSICAL REVIEW C', 'A2'),\n",
    "            'Nature Phys.'    : ('NATURE PHYSICS (PRINT)', 'A1'),\n",
    "            'JHEP'            : ('Journal of High Energy Physics', 'A1' ),\n",
    "            'JINST'           : ('Journal of Instrumentation', 'B1'),\n",
    "            'PoS'             : ('Proceeding of science', '0'), # not allow\n",
    "        }"
   ]
  },
  {
   "cell_type": "code",
   "execution_count": 28,
   "id": "cbb6bc2d-a01a-4932-9144-2d83fdff651c",
   "metadata": {},
   "outputs": [
    {
     "data": {
      "text/plain": [
       "(215, 16)"
      ]
     },
     "execution_count": 28,
     "metadata": {},
     "output_type": "execute_result"
    }
   ],
   "source": [
    "my_df.shape"
   ]
  },
  {
   "cell_type": "code",
   "execution_count": 29,
   "id": "49cc38ec-0097-4050-9f63-940faabd26cf",
   "metadata": {},
   "outputs": [],
   "source": [
    "def add_qualis_factor( row ):\n",
    "    journal = row['journal']\n",
    "    if journal in qualis.keys():\n",
    "        return qualis[journal][1]\n",
    "    else:\n",
    "        return np.nan\n",
    "def add_qualis_full_name(row):\n",
    "    journal = row['journal']\n",
    "    if journal in qualis.keys():\n",
    "        return qualis[journal][0]\n",
    "    else:\n",
    "        return np.nan\n",
    "    "
   ]
  },
  {
   "cell_type": "code",
   "execution_count": 30,
   "id": "39c965b0-b28c-4a30-8c79-22e98fcb5412",
   "metadata": {},
   "outputs": [],
   "source": [
    "my_df['factor'] = my_df.apply( add_qualis_factor , axis=1)\n",
    "my_df['journal name'] = my_df.apply( add_qualis_full_name , axis=1)\n",
    "my_df['arxiv link'] = ''"
   ]
  },
  {
   "cell_type": "code",
   "execution_count": 42,
   "id": "5ab0937a-a3f5-4fb9-bf34-5da1625dafdb",
   "metadata": {},
   "outputs": [],
   "source": [
    "my_df = my_df.loc[my_df.archiveprefix=='arXiv']"
   ]
  },
  {
   "cell_type": "code",
   "execution_count": 47,
   "id": "7e2aad1b-5ffd-46c7-b45c-531d43754e7a",
   "metadata": {},
   "outputs": [
    {
     "name": "stderr",
     "output_type": "stream",
     "text": [
      "100%|██████████| 214/214 [02:09<00:00,  1.65it/s]\n"
     ]
    }
   ],
   "source": [
    "\n",
    "for _,row in tqdm(my_df.iterrows(), total=my_df.shape[0]):\n",
    "    #print(row)\n",
    "    paper = next(arxiv.Search(id_list=[row.eprint]).results())\n",
    "    row['arxiv link'] = paper.entry_id\n",
    "    #path= paper.download_pdf()\n",
    "    #name = row['Journal name'].replace(' ', '_') + '_' + row.eprint +'.pdf'  \n",
    "    #os.system('mv %s %s'%(path, name ))\n",
    "    #row['Paper File'] = name\n",
    "\n",
    "\n"
   ]
  },
  {
   "cell_type": "code",
   "execution_count": 48,
   "id": "c5478968-4697-45b9-9866-71ae4512ab9c",
   "metadata": {},
   "outputs": [
    {
     "data": {
      "text/html": [
       "<div>\n",
       "<style scoped>\n",
       "    .dataframe tbody tr th:only-of-type {\n",
       "        vertical-align: middle;\n",
       "    }\n",
       "\n",
       "    .dataframe tbody tr th {\n",
       "        vertical-align: top;\n",
       "    }\n",
       "\n",
       "    .dataframe thead th {\n",
       "        text-align: right;\n",
       "    }\n",
       "</style>\n",
       "<table border=\"1\" class=\"dataframe\">\n",
       "  <thead>\n",
       "    <tr style=\"text-align: right;\">\n",
       "      <th></th>\n",
       "      <th>year</th>\n",
       "      <th>pages</th>\n",
       "      <th>volume</th>\n",
       "      <th>journal</th>\n",
       "      <th>doi</th>\n",
       "      <th>reportnumber</th>\n",
       "      <th>primaryclass</th>\n",
       "      <th>archiveprefix</th>\n",
       "      <th>eprint</th>\n",
       "      <th>title</th>\n",
       "      <th>collaboration</th>\n",
       "      <th>author</th>\n",
       "      <th>ENTRYTYPE</th>\n",
       "      <th>ID</th>\n",
       "      <th>number</th>\n",
       "      <th>note</th>\n",
       "      <th>factor</th>\n",
       "      <th>journal name</th>\n",
       "      <th>arxiv link</th>\n",
       "    </tr>\n",
       "  </thead>\n",
       "  <tbody>\n",
       "    <tr>\n",
       "      <th>0</th>\n",
       "      <td>2022</td>\n",
       "      <td>087</td>\n",
       "      <td>08</td>\n",
       "      <td>JHEP</td>\n",
       "      <td>10.1007/JHEP08(2022)087</td>\n",
       "      <td>CERN-EP-2022-025</td>\n",
       "      <td>hep-ex</td>\n",
       "      <td>arXiv</td>\n",
       "      <td>2203.01808</td>\n",
       "      <td>{Study of $ {\\mathrm{B}}_{\\mathrm{c}}^{+}\\to \\...</td>\n",
       "      <td>ATLAS</td>\n",
       "      <td>Aad, Georges and others</td>\n",
       "      <td>article</td>\n",
       "      <td>ATLAS:2022aiy</td>\n",
       "      <td>NaN</td>\n",
       "      <td>NaN</td>\n",
       "      <td>A1</td>\n",
       "      <td>Journal of High Energy Physics</td>\n",
       "      <td>http://arxiv.org/abs/2203.01808v2</td>\n",
       "    </tr>\n",
       "    <tr>\n",
       "      <th>1</th>\n",
       "      <td>2022</td>\n",
       "      <td>005</td>\n",
       "      <td>06</td>\n",
       "      <td>JHEP</td>\n",
       "      <td>10.1007/JHEP06(2022)005</td>\n",
       "      <td>CERN-EP-2022-002</td>\n",
       "      <td>hep-ex</td>\n",
       "      <td>arXiv</td>\n",
       "      <td>2203.01009</td>\n",
       "      <td>{Search for neutral long-lived particles in $p...</td>\n",
       "      <td>ATLAS</td>\n",
       "      <td>Aad, Georges and others</td>\n",
       "      <td>article</td>\n",
       "      <td>ATLAS:2022zhj</td>\n",
       "      <td>NaN</td>\n",
       "      <td>NaN</td>\n",
       "      <td>A1</td>\n",
       "      <td>Journal of High Energy Physics</td>\n",
       "      <td>http://arxiv.org/abs/2203.01009v2</td>\n",
       "    </tr>\n",
       "    <tr>\n",
       "      <th>2</th>\n",
       "      <td>2022</td>\n",
       "      <td>032005</td>\n",
       "      <td>106</td>\n",
       "      <td>Phys. Rev. D</td>\n",
       "      <td>10.1103/PhysRevD.106.032005</td>\n",
       "      <td>CERN-EP-2021-195</td>\n",
       "      <td>hep-ex</td>\n",
       "      <td>arXiv</td>\n",
       "      <td>2203.00587</td>\n",
       "      <td>{Search for events with a pair of displaced ve...</td>\n",
       "      <td>ATLAS</td>\n",
       "      <td>Aad, Georges and others</td>\n",
       "      <td>article</td>\n",
       "      <td>ATLAS:2022gbw</td>\n",
       "      <td>3</td>\n",
       "      <td>NaN</td>\n",
       "      <td>A2</td>\n",
       "      <td>PHYSICAL REVIEW D (PARTICLES, FIELDS, GRAVITAT...</td>\n",
       "      <td>http://arxiv.org/abs/2203.00587v2</td>\n",
       "    </tr>\n",
       "    <tr>\n",
       "      <th>3</th>\n",
       "      <td>2022</td>\n",
       "      <td>032008</td>\n",
       "      <td>106</td>\n",
       "      <td>Phys. Rev. D</td>\n",
       "      <td>10.1103/PhysRevD.106.032008</td>\n",
       "      <td>CERN-EP-2021-116</td>\n",
       "      <td>hep-ex</td>\n",
       "      <td>arXiv</td>\n",
       "      <td>2202.13901</td>\n",
       "      <td>{Measurements of jet observables sensitive to ...</td>\n",
       "      <td>ATLAS</td>\n",
       "      <td>Aad, Georges and others</td>\n",
       "      <td>article</td>\n",
       "      <td>ATLAS:2022miz</td>\n",
       "      <td>3</td>\n",
       "      <td>NaN</td>\n",
       "      <td>A2</td>\n",
       "      <td>PHYSICAL REVIEW D (PARTICLES, FIELDS, GRAVITAT...</td>\n",
       "      <td>http://arxiv.org/abs/2202.13901v2</td>\n",
       "    </tr>\n",
       "    <tr>\n",
       "      <th>4</th>\n",
       "      <td>2022</td>\n",
       "      <td>063</td>\n",
       "      <td>06</td>\n",
       "      <td>JHEP</td>\n",
       "      <td>10.1007/JHEP06(2022)063</td>\n",
       "      <td>CERN-EP-2022-003</td>\n",
       "      <td>hep-ex</td>\n",
       "      <td>arXiv</td>\n",
       "      <td>2202.12134</td>\n",
       "      <td>{Measurements of differential cross-sections i...</td>\n",
       "      <td>ATLAS</td>\n",
       "      <td>Aad, Georges and others</td>\n",
       "      <td>article</td>\n",
       "      <td>ATLAS:2022xfj</td>\n",
       "      <td>NaN</td>\n",
       "      <td>NaN</td>\n",
       "      <td>A1</td>\n",
       "      <td>Journal of High Energy Physics</td>\n",
       "      <td>http://arxiv.org/abs/2202.12134v2</td>\n",
       "    </tr>\n",
       "  </tbody>\n",
       "</table>\n",
       "</div>"
      ],
      "text/plain": [
       "   year   pages volume       journal                          doi  \\\n",
       "0  2022     087     08          JHEP      10.1007/JHEP08(2022)087   \n",
       "1  2022     005     06          JHEP      10.1007/JHEP06(2022)005   \n",
       "2  2022  032005    106  Phys. Rev. D  10.1103/PhysRevD.106.032005   \n",
       "3  2022  032008    106  Phys. Rev. D  10.1103/PhysRevD.106.032008   \n",
       "4  2022     063     06          JHEP      10.1007/JHEP06(2022)063   \n",
       "\n",
       "       reportnumber primaryclass archiveprefix      eprint  \\\n",
       "0  CERN-EP-2022-025       hep-ex         arXiv  2203.01808   \n",
       "1  CERN-EP-2022-002       hep-ex         arXiv  2203.01009   \n",
       "2  CERN-EP-2021-195       hep-ex         arXiv  2203.00587   \n",
       "3  CERN-EP-2021-116       hep-ex         arXiv  2202.13901   \n",
       "4  CERN-EP-2022-003       hep-ex         arXiv  2202.12134   \n",
       "\n",
       "                                               title collaboration  \\\n",
       "0  {Study of $ {\\mathrm{B}}_{\\mathrm{c}}^{+}\\to \\...         ATLAS   \n",
       "1  {Search for neutral long-lived particles in $p...         ATLAS   \n",
       "2  {Search for events with a pair of displaced ve...         ATLAS   \n",
       "3  {Measurements of jet observables sensitive to ...         ATLAS   \n",
       "4  {Measurements of differential cross-sections i...         ATLAS   \n",
       "\n",
       "                    author ENTRYTYPE             ID number note factor  \\\n",
       "0  Aad, Georges and others   article  ATLAS:2022aiy    NaN  NaN     A1   \n",
       "1  Aad, Georges and others   article  ATLAS:2022zhj    NaN  NaN     A1   \n",
       "2  Aad, Georges and others   article  ATLAS:2022gbw      3  NaN     A2   \n",
       "3  Aad, Georges and others   article  ATLAS:2022miz      3  NaN     A2   \n",
       "4  Aad, Georges and others   article  ATLAS:2022xfj    NaN  NaN     A1   \n",
       "\n",
       "                                        journal name  \\\n",
       "0                     Journal of High Energy Physics   \n",
       "1                     Journal of High Energy Physics   \n",
       "2  PHYSICAL REVIEW D (PARTICLES, FIELDS, GRAVITAT...   \n",
       "3  PHYSICAL REVIEW D (PARTICLES, FIELDS, GRAVITAT...   \n",
       "4                     Journal of High Energy Physics   \n",
       "\n",
       "                          arxiv link  \n",
       "0  http://arxiv.org/abs/2203.01808v2  \n",
       "1  http://arxiv.org/abs/2203.01009v2  \n",
       "2  http://arxiv.org/abs/2203.00587v2  \n",
       "3  http://arxiv.org/abs/2202.13901v2  \n",
       "4  http://arxiv.org/abs/2202.12134v2  "
      ]
     },
     "execution_count": 48,
     "metadata": {},
     "output_type": "execute_result"
    }
   ],
   "source": [
    "my_df.head()"
   ]
  },
  {
   "cell_type": "code",
   "execution_count": 49,
   "id": "c212b9cb-c506-47e9-a304-acd0c6648cd5",
   "metadata": {},
   "outputs": [],
   "source": [
    "my_articles = my_df[ ['year', 'journal name', 'factor', 'title', 'arxiv link'] ]"
   ]
  },
  {
   "cell_type": "code",
   "execution_count": 50,
   "id": "fd77459e-b232-4136-90a0-67f2774fb9eb",
   "metadata": {},
   "outputs": [
    {
     "data": {
      "text/html": [
       "<div>\n",
       "<style scoped>\n",
       "    .dataframe tbody tr th:only-of-type {\n",
       "        vertical-align: middle;\n",
       "    }\n",
       "\n",
       "    .dataframe tbody tr th {\n",
       "        vertical-align: top;\n",
       "    }\n",
       "\n",
       "    .dataframe thead th {\n",
       "        text-align: right;\n",
       "    }\n",
       "</style>\n",
       "<table border=\"1\" class=\"dataframe\">\n",
       "  <thead>\n",
       "    <tr style=\"text-align: right;\">\n",
       "      <th></th>\n",
       "      <th>year</th>\n",
       "      <th>journal name</th>\n",
       "      <th>factor</th>\n",
       "      <th>title</th>\n",
       "      <th>arxiv link</th>\n",
       "    </tr>\n",
       "  </thead>\n",
       "  <tbody>\n",
       "    <tr>\n",
       "      <th>0</th>\n",
       "      <td>2022</td>\n",
       "      <td>Journal of High Energy Physics</td>\n",
       "      <td>A1</td>\n",
       "      <td>{Study of $ {\\mathrm{B}}_{\\mathrm{c}}^{+}\\to \\...</td>\n",
       "      <td>http://arxiv.org/abs/2203.01808v2</td>\n",
       "    </tr>\n",
       "    <tr>\n",
       "      <th>1</th>\n",
       "      <td>2022</td>\n",
       "      <td>Journal of High Energy Physics</td>\n",
       "      <td>A1</td>\n",
       "      <td>{Search for neutral long-lived particles in $p...</td>\n",
       "      <td>http://arxiv.org/abs/2203.01009v2</td>\n",
       "    </tr>\n",
       "    <tr>\n",
       "      <th>2</th>\n",
       "      <td>2022</td>\n",
       "      <td>PHYSICAL REVIEW D (PARTICLES, FIELDS, GRAVITAT...</td>\n",
       "      <td>A2</td>\n",
       "      <td>{Search for events with a pair of displaced ve...</td>\n",
       "      <td>http://arxiv.org/abs/2203.00587v2</td>\n",
       "    </tr>\n",
       "    <tr>\n",
       "      <th>3</th>\n",
       "      <td>2022</td>\n",
       "      <td>PHYSICAL REVIEW D (PARTICLES, FIELDS, GRAVITAT...</td>\n",
       "      <td>A2</td>\n",
       "      <td>{Measurements of jet observables sensitive to ...</td>\n",
       "      <td>http://arxiv.org/abs/2202.13901v2</td>\n",
       "    </tr>\n",
       "    <tr>\n",
       "      <th>4</th>\n",
       "      <td>2022</td>\n",
       "      <td>Journal of High Energy Physics</td>\n",
       "      <td>A1</td>\n",
       "      <td>{Measurements of differential cross-sections i...</td>\n",
       "      <td>http://arxiv.org/abs/2202.12134v2</td>\n",
       "    </tr>\n",
       "  </tbody>\n",
       "</table>\n",
       "</div>"
      ],
      "text/plain": [
       "   year                                       journal name factor  \\\n",
       "0  2022                     Journal of High Energy Physics     A1   \n",
       "1  2022                     Journal of High Energy Physics     A1   \n",
       "2  2022  PHYSICAL REVIEW D (PARTICLES, FIELDS, GRAVITAT...     A2   \n",
       "3  2022  PHYSICAL REVIEW D (PARTICLES, FIELDS, GRAVITAT...     A2   \n",
       "4  2022                     Journal of High Energy Physics     A1   \n",
       "\n",
       "                                               title  \\\n",
       "0  {Study of $ {\\mathrm{B}}_{\\mathrm{c}}^{+}\\to \\...   \n",
       "1  {Search for neutral long-lived particles in $p...   \n",
       "2  {Search for events with a pair of displaced ve...   \n",
       "3  {Measurements of jet observables sensitive to ...   \n",
       "4  {Measurements of differential cross-sections i...   \n",
       "\n",
       "                          arxiv link  \n",
       "0  http://arxiv.org/abs/2203.01808v2  \n",
       "1  http://arxiv.org/abs/2203.01009v2  \n",
       "2  http://arxiv.org/abs/2203.00587v2  \n",
       "3  http://arxiv.org/abs/2202.13901v2  \n",
       "4  http://arxiv.org/abs/2202.12134v2  "
      ]
     },
     "execution_count": 50,
     "metadata": {},
     "output_type": "execute_result"
    }
   ],
   "source": [
    "my_articles.head()"
   ]
  },
  {
   "cell_type": "code",
   "execution_count": 51,
   "id": "6a2f4ec0-51cb-4013-92d1-60c6b7bc8493",
   "metadata": {},
   "outputs": [],
   "source": [
    "my_articles = my_articles.sort_values('year')"
   ]
  },
  {
   "cell_type": "code",
   "execution_count": 52,
   "id": "74315791-a4ec-43c5-906b-71c5d992a457",
   "metadata": {},
   "outputs": [
    {
     "data": {
      "text/html": [
       "<div>\n",
       "<style scoped>\n",
       "    .dataframe tbody tr th:only-of-type {\n",
       "        vertical-align: middle;\n",
       "    }\n",
       "\n",
       "    .dataframe tbody tr th {\n",
       "        vertical-align: top;\n",
       "    }\n",
       "\n",
       "    .dataframe thead th {\n",
       "        text-align: right;\n",
       "    }\n",
       "</style>\n",
       "<table border=\"1\" class=\"dataframe\">\n",
       "  <thead>\n",
       "    <tr style=\"text-align: right;\">\n",
       "      <th></th>\n",
       "      <th>year</th>\n",
       "      <th>journal name</th>\n",
       "      <th>factor</th>\n",
       "      <th>title</th>\n",
       "      <th>arxiv link</th>\n",
       "    </tr>\n",
       "  </thead>\n",
       "  <tbody>\n",
       "    <tr>\n",
       "      <th>214</th>\n",
       "      <td>2019</td>\n",
       "      <td>Journal of High Energy Physics</td>\n",
       "      <td>A1</td>\n",
       "      <td>{Measurement of the ratio of cross sections fo...</td>\n",
       "      <td>http://arxiv.org/abs/1901.10075v2</td>\n",
       "    </tr>\n",
       "    <tr>\n",
       "      <th>190</th>\n",
       "      <td>2019</td>\n",
       "      <td>Journal of High Energy Physics</td>\n",
       "      <td>A1</td>\n",
       "      <td>{Search for heavy neutral leptons in decays of...</td>\n",
       "      <td>http://arxiv.org/abs/1905.09787v2</td>\n",
       "    </tr>\n",
       "    <tr>\n",
       "      <th>187</th>\n",
       "      <td>2019</td>\n",
       "      <td>PHYSICAL REVIEW D (PARTICLES, FIELDS, GRAVITAT...</td>\n",
       "      <td>A2</td>\n",
       "      <td>{Search for a heavy charged boson in events wi...</td>\n",
       "      <td>http://arxiv.org/abs/1906.05609v2</td>\n",
       "    </tr>\n",
       "    <tr>\n",
       "      <th>186</th>\n",
       "      <td>2019</td>\n",
       "      <td>Journal of High Energy Physics</td>\n",
       "      <td>A1</td>\n",
       "      <td>{Search for diboson resonances in hadronic fin...</td>\n",
       "      <td>http://arxiv.org/abs/1906.08589v3</td>\n",
       "    </tr>\n",
       "    <tr>\n",
       "      <th>185</th>\n",
       "      <td>2019</td>\n",
       "      <td>PHYSICAL REVIEW D (PARTICLES, FIELDS, GRAVITAT...</td>\n",
       "      <td>A2</td>\n",
       "      <td>{Properties of jet fragmentation using charged...</td>\n",
       "      <td>http://arxiv.org/abs/1906.09254v2</td>\n",
       "    </tr>\n",
       "  </tbody>\n",
       "</table>\n",
       "</div>"
      ],
      "text/plain": [
       "     year                                       journal name factor  \\\n",
       "214  2019                     Journal of High Energy Physics     A1   \n",
       "190  2019                     Journal of High Energy Physics     A1   \n",
       "187  2019  PHYSICAL REVIEW D (PARTICLES, FIELDS, GRAVITAT...     A2   \n",
       "186  2019                     Journal of High Energy Physics     A1   \n",
       "185  2019  PHYSICAL REVIEW D (PARTICLES, FIELDS, GRAVITAT...     A2   \n",
       "\n",
       "                                                 title  \\\n",
       "214  {Measurement of the ratio of cross sections fo...   \n",
       "190  {Search for heavy neutral leptons in decays of...   \n",
       "187  {Search for a heavy charged boson in events wi...   \n",
       "186  {Search for diboson resonances in hadronic fin...   \n",
       "185  {Properties of jet fragmentation using charged...   \n",
       "\n",
       "                            arxiv link  \n",
       "214  http://arxiv.org/abs/1901.10075v2  \n",
       "190  http://arxiv.org/abs/1905.09787v2  \n",
       "187  http://arxiv.org/abs/1906.05609v2  \n",
       "186  http://arxiv.org/abs/1906.08589v3  \n",
       "185  http://arxiv.org/abs/1906.09254v2  "
      ]
     },
     "execution_count": 52,
     "metadata": {},
     "output_type": "execute_result"
    }
   ],
   "source": [
    "my_articles.head()"
   ]
  },
  {
   "cell_type": "code",
   "execution_count": 55,
   "id": "9db2989d-dff0-4359-b4e0-985234120d72",
   "metadata": {},
   "outputs": [],
   "source": [
    "my_articles.to_excel('ATLAS Publications (João Victor da Fonseca Pinto).xlsx')"
   ]
  },
  {
   "cell_type": "code",
   "execution_count": null,
   "id": "eaa80a04-8e2f-4430-8bfd-0454c9bcdbd7",
   "metadata": {},
   "outputs": [],
   "source": []
  }
 ],
 "metadata": {
  "kernelspec": {
   "display_name": "Python 3",
   "language": "python",
   "name": "python3"
  },
  "language_info": {
   "codemirror_mode": {
    "name": "ipython",
    "version": 3
   },
   "file_extension": ".py",
   "mimetype": "text/x-python",
   "name": "python",
   "nbconvert_exporter": "python",
   "pygments_lexer": "ipython3",
   "version": "3.9.6"
  }
 },
 "nbformat": 4,
 "nbformat_minor": 5
}
