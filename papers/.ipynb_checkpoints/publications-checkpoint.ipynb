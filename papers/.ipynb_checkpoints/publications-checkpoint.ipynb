{
 "cells": [
  {
   "cell_type": "code",
   "execution_count": 30,
   "id": "f2b7b778-ff4f-4787-8b93-c91dbffc6d7d",
   "metadata": {},
   "outputs": [],
   "source": [
    "import numpy as np\n",
    "import pandas as pd\n",
    "import bibtexparser\n",
    "import arxiv\n",
    "from tqdm import tqdm\n",
    "# Take first page from each PDF\n",
    "from PyPDF2 import PdfFileReader, PdfFileWriter\n"
   ]
  },
  {
   "cell_type": "code",
   "execution_count": 2,
   "id": "7393d7b7-b421-456d-bcd7-4d1546cac468",
   "metadata": {},
   "outputs": [],
   "source": [
    "path = 'inspire.bib'"
   ]
  },
  {
   "cell_type": "code",
   "execution_count": 3,
   "id": "412c32b5-334b-4b41-8d0f-b60edbb56831",
   "metadata": {},
   "outputs": [],
   "source": [
    "with open(path) as f:\n",
    "    database = bibtexparser.load(f)"
   ]
  },
  {
   "cell_type": "code",
   "execution_count": 4,
   "id": "464754ec-6ba8-49f1-bc79-7acda78428ce",
   "metadata": {},
   "outputs": [],
   "source": [
    "my_df = pd.DataFrame(database.entries)"
   ]
  },
  {
   "cell_type": "code",
   "execution_count": 5,
   "id": "6637f45b-f437-487d-8818-bd7fe76e10f9",
   "metadata": {},
   "outputs": [
    {
     "data": {
      "text/plain": [
       "(215, 16)"
      ]
     },
     "execution_count": 5,
     "metadata": {},
     "output_type": "execute_result"
    }
   ],
   "source": [
    "my_df.shape"
   ]
  },
  {
   "cell_type": "code",
   "execution_count": 6,
   "id": "9ead40f3-220b-4f14-b059-6075f5287808",
   "metadata": {},
   "outputs": [
    {
     "data": {
      "text/plain": [
       "array(['JHEP', 'Phys. Rev. D', 'Eur. Phys. J. C', 'Phys. Rev. Lett.',\n",
       "       'Phys. Lett. B', 'Phys. Rev. C', 'JINST',\n",
       "       'Comput. Softw. Big Sci.', 'Nature Phys.', 'PoS'], dtype=object)"
      ]
     },
     "execution_count": 6,
     "metadata": {},
     "output_type": "execute_result"
    }
   ],
   "source": [
    "my_df['journal'].unique()"
   ]
  },
  {
   "cell_type": "code",
   "execution_count": 7,
   "id": "231a235d-195b-46df-866b-4256bad7d486",
   "metadata": {},
   "outputs": [],
   "source": [
    "qualis = {\n",
    "            'Phys. Rev. D'    : ('PHYSICAL REVIEW D (PARTICLES, FIELDS, GRAVITATION AND COSMOLOGY)', 'A2'),\n",
    "            'Phys. Lett. B'   : ('MODERN PHYSICS LETTERS B', 'B5'), # not allow\n",
    "            'Eur. Phys. J. C' : ('The European Physical Journal C', '0'), \n",
    "            'Phys. Rev. Lett.': ('PHYSICAL REVIEW LETTERS', 'A1'),\n",
    "            'Phys. Rev. C'    : ('PHYSICAL REVIEW C', 'A2'),\n",
    "            'Nature Phys.'    : ('NATURE PHYSICS (PRINT)', 'A1'),\n",
    "            'JHEP'            : ('Journal of High Energy Physics', 'A1' ),\n",
    "            'JINST'           : ('Journal of Instrumentation', 'B1'),\n",
    "            'PoS'             : ('Proceeding of science', '0'), # not allow\n",
    "        }"
   ]
  },
  {
   "cell_type": "code",
   "execution_count": 8,
   "id": "cbb6bc2d-a01a-4932-9144-2d83fdff651c",
   "metadata": {},
   "outputs": [
    {
     "data": {
      "text/plain": [
       "(215, 16)"
      ]
     },
     "execution_count": 8,
     "metadata": {},
     "output_type": "execute_result"
    }
   ],
   "source": [
    "my_df.shape"
   ]
  },
  {
   "cell_type": "code",
   "execution_count": 9,
   "id": "49cc38ec-0097-4050-9f63-940faabd26cf",
   "metadata": {},
   "outputs": [],
   "source": [
    "def add_qualis_factor( row ):\n",
    "    journal = row['journal']\n",
    "    if journal in qualis.keys():\n",
    "        return qualis[journal][1]\n",
    "    else:\n",
    "        return np.nan\n",
    "def add_qualis_full_name(row):\n",
    "    journal = row['journal']\n",
    "    if journal in qualis.keys():\n",
    "        return qualis[journal][0]\n",
    "    else:\n",
    "        return np.nan\n",
    "    "
   ]
  },
  {
   "cell_type": "code",
   "execution_count": 10,
   "id": "39c965b0-b28c-4a30-8c79-22e98fcb5412",
   "metadata": {},
   "outputs": [],
   "source": [
    "my_df['Factor'] = my_df.apply( add_qualis_factor , axis=1)\n",
    "my_df['Journal name'] = my_df.apply( add_qualis_full_name , axis=1)"
   ]
  },
  {
   "cell_type": "code",
   "execution_count": 11,
   "id": "18d308b6-2574-4eae-b40e-3af0bd15c4b8",
   "metadata": {},
   "outputs": [],
   "source": [
    "my_articles = my_df.loc[(my_df['Factor']=='A1')|(my_df['Factor']=='A2')|(my_df['Factor']=='B1')]"
   ]
  },
  {
   "cell_type": "code",
   "execution_count": 12,
   "id": "94490390-c140-4eaa-aa27-837f6e258f69",
   "metadata": {},
   "outputs": [
    {
     "data": {
      "text/plain": [
       "(127, 18)"
      ]
     },
     "execution_count": 12,
     "metadata": {},
     "output_type": "execute_result"
    }
   ],
   "source": [
    "my_articles.shape"
   ]
  },
  {
   "cell_type": "code",
   "execution_count": 13,
   "id": "5d3550be-f1e8-43e7-98a3-0282a298a6f0",
   "metadata": {},
   "outputs": [
    {
     "data": {
      "text/html": [
       "<div>\n",
       "<style scoped>\n",
       "    .dataframe tbody tr th:only-of-type {\n",
       "        vertical-align: middle;\n",
       "    }\n",
       "\n",
       "    .dataframe tbody tr th {\n",
       "        vertical-align: top;\n",
       "    }\n",
       "\n",
       "    .dataframe thead th {\n",
       "        text-align: right;\n",
       "    }\n",
       "</style>\n",
       "<table border=\"1\" class=\"dataframe\">\n",
       "  <thead>\n",
       "    <tr style=\"text-align: right;\">\n",
       "      <th></th>\n",
       "      <th>year</th>\n",
       "      <th>pages</th>\n",
       "      <th>volume</th>\n",
       "      <th>journal</th>\n",
       "      <th>doi</th>\n",
       "      <th>reportnumber</th>\n",
       "      <th>primaryclass</th>\n",
       "      <th>archiveprefix</th>\n",
       "      <th>eprint</th>\n",
       "      <th>title</th>\n",
       "      <th>collaboration</th>\n",
       "      <th>author</th>\n",
       "      <th>ENTRYTYPE</th>\n",
       "      <th>ID</th>\n",
       "      <th>number</th>\n",
       "      <th>note</th>\n",
       "      <th>Factor</th>\n",
       "      <th>Journal name</th>\n",
       "    </tr>\n",
       "  </thead>\n",
       "  <tbody>\n",
       "    <tr>\n",
       "      <th>0</th>\n",
       "      <td>2022</td>\n",
       "      <td>087</td>\n",
       "      <td>08</td>\n",
       "      <td>JHEP</td>\n",
       "      <td>10.1007/JHEP08(2022)087</td>\n",
       "      <td>CERN-EP-2022-025</td>\n",
       "      <td>hep-ex</td>\n",
       "      <td>arXiv</td>\n",
       "      <td>2203.01808</td>\n",
       "      <td>{Study of $ {\\mathrm{B}}_{\\mathrm{c}}^{+}\\to \\...</td>\n",
       "      <td>ATLAS</td>\n",
       "      <td>Aad, Georges and others</td>\n",
       "      <td>article</td>\n",
       "      <td>ATLAS:2022aiy</td>\n",
       "      <td>NaN</td>\n",
       "      <td>NaN</td>\n",
       "      <td>A1</td>\n",
       "      <td>Journal of High Energy Physics</td>\n",
       "    </tr>\n",
       "    <tr>\n",
       "      <th>1</th>\n",
       "      <td>2022</td>\n",
       "      <td>005</td>\n",
       "      <td>06</td>\n",
       "      <td>JHEP</td>\n",
       "      <td>10.1007/JHEP06(2022)005</td>\n",
       "      <td>CERN-EP-2022-002</td>\n",
       "      <td>hep-ex</td>\n",
       "      <td>arXiv</td>\n",
       "      <td>2203.01009</td>\n",
       "      <td>{Search for neutral long-lived particles in $p...</td>\n",
       "      <td>ATLAS</td>\n",
       "      <td>Aad, Georges and others</td>\n",
       "      <td>article</td>\n",
       "      <td>ATLAS:2022zhj</td>\n",
       "      <td>NaN</td>\n",
       "      <td>NaN</td>\n",
       "      <td>A1</td>\n",
       "      <td>Journal of High Energy Physics</td>\n",
       "    </tr>\n",
       "    <tr>\n",
       "      <th>2</th>\n",
       "      <td>2022</td>\n",
       "      <td>032005</td>\n",
       "      <td>106</td>\n",
       "      <td>Phys. Rev. D</td>\n",
       "      <td>10.1103/PhysRevD.106.032005</td>\n",
       "      <td>CERN-EP-2021-195</td>\n",
       "      <td>hep-ex</td>\n",
       "      <td>arXiv</td>\n",
       "      <td>2203.00587</td>\n",
       "      <td>{Search for events with a pair of displaced ve...</td>\n",
       "      <td>ATLAS</td>\n",
       "      <td>Aad, Georges and others</td>\n",
       "      <td>article</td>\n",
       "      <td>ATLAS:2022gbw</td>\n",
       "      <td>3</td>\n",
       "      <td>NaN</td>\n",
       "      <td>A2</td>\n",
       "      <td>PHYSICAL REVIEW D (PARTICLES, FIELDS, GRAVITAT...</td>\n",
       "    </tr>\n",
       "    <tr>\n",
       "      <th>3</th>\n",
       "      <td>2022</td>\n",
       "      <td>032008</td>\n",
       "      <td>106</td>\n",
       "      <td>Phys. Rev. D</td>\n",
       "      <td>10.1103/PhysRevD.106.032008</td>\n",
       "      <td>CERN-EP-2021-116</td>\n",
       "      <td>hep-ex</td>\n",
       "      <td>arXiv</td>\n",
       "      <td>2202.13901</td>\n",
       "      <td>{Measurements of jet observables sensitive to ...</td>\n",
       "      <td>ATLAS</td>\n",
       "      <td>Aad, Georges and others</td>\n",
       "      <td>article</td>\n",
       "      <td>ATLAS:2022miz</td>\n",
       "      <td>3</td>\n",
       "      <td>NaN</td>\n",
       "      <td>A2</td>\n",
       "      <td>PHYSICAL REVIEW D (PARTICLES, FIELDS, GRAVITAT...</td>\n",
       "    </tr>\n",
       "    <tr>\n",
       "      <th>4</th>\n",
       "      <td>2022</td>\n",
       "      <td>063</td>\n",
       "      <td>06</td>\n",
       "      <td>JHEP</td>\n",
       "      <td>10.1007/JHEP06(2022)063</td>\n",
       "      <td>CERN-EP-2022-003</td>\n",
       "      <td>hep-ex</td>\n",
       "      <td>arXiv</td>\n",
       "      <td>2202.12134</td>\n",
       "      <td>{Measurements of differential cross-sections i...</td>\n",
       "      <td>ATLAS</td>\n",
       "      <td>Aad, Georges and others</td>\n",
       "      <td>article</td>\n",
       "      <td>ATLAS:2022xfj</td>\n",
       "      <td>NaN</td>\n",
       "      <td>NaN</td>\n",
       "      <td>A1</td>\n",
       "      <td>Journal of High Energy Physics</td>\n",
       "    </tr>\n",
       "  </tbody>\n",
       "</table>\n",
       "</div>"
      ],
      "text/plain": [
       "   year   pages volume       journal                          doi  \\\n",
       "0  2022     087     08          JHEP      10.1007/JHEP08(2022)087   \n",
       "1  2022     005     06          JHEP      10.1007/JHEP06(2022)005   \n",
       "2  2022  032005    106  Phys. Rev. D  10.1103/PhysRevD.106.032005   \n",
       "3  2022  032008    106  Phys. Rev. D  10.1103/PhysRevD.106.032008   \n",
       "4  2022     063     06          JHEP      10.1007/JHEP06(2022)063   \n",
       "\n",
       "       reportnumber primaryclass archiveprefix      eprint  \\\n",
       "0  CERN-EP-2022-025       hep-ex         arXiv  2203.01808   \n",
       "1  CERN-EP-2022-002       hep-ex         arXiv  2203.01009   \n",
       "2  CERN-EP-2021-195       hep-ex         arXiv  2203.00587   \n",
       "3  CERN-EP-2021-116       hep-ex         arXiv  2202.13901   \n",
       "4  CERN-EP-2022-003       hep-ex         arXiv  2202.12134   \n",
       "\n",
       "                                               title collaboration  \\\n",
       "0  {Study of $ {\\mathrm{B}}_{\\mathrm{c}}^{+}\\to \\...         ATLAS   \n",
       "1  {Search for neutral long-lived particles in $p...         ATLAS   \n",
       "2  {Search for events with a pair of displaced ve...         ATLAS   \n",
       "3  {Measurements of jet observables sensitive to ...         ATLAS   \n",
       "4  {Measurements of differential cross-sections i...         ATLAS   \n",
       "\n",
       "                    author ENTRYTYPE             ID number note Factor  \\\n",
       "0  Aad, Georges and others   article  ATLAS:2022aiy    NaN  NaN     A1   \n",
       "1  Aad, Georges and others   article  ATLAS:2022zhj    NaN  NaN     A1   \n",
       "2  Aad, Georges and others   article  ATLAS:2022gbw      3  NaN     A2   \n",
       "3  Aad, Georges and others   article  ATLAS:2022miz      3  NaN     A2   \n",
       "4  Aad, Georges and others   article  ATLAS:2022xfj    NaN  NaN     A1   \n",
       "\n",
       "                                        Journal name  \n",
       "0                     Journal of High Energy Physics  \n",
       "1                     Journal of High Energy Physics  \n",
       "2  PHYSICAL REVIEW D (PARTICLES, FIELDS, GRAVITAT...  \n",
       "3  PHYSICAL REVIEW D (PARTICLES, FIELDS, GRAVITAT...  \n",
       "4                     Journal of High Energy Physics  "
      ]
     },
     "execution_count": 13,
     "metadata": {},
     "output_type": "execute_result"
    }
   ],
   "source": [
    "my_articles.head()"
   ]
  },
  {
   "cell_type": "code",
   "execution_count": 14,
   "id": "5d59157e-d10e-4926-96dc-2626b4d487fd",
   "metadata": {},
   "outputs": [],
   "source": [
    "my_articles = my_articles.sort_values(by=['Factor'])"
   ]
  },
  {
   "cell_type": "code",
   "execution_count": 15,
   "id": "f67689a5-1cc0-4ebe-b403-ad28f9659fc1",
   "metadata": {},
   "outputs": [
    {
     "data": {
      "text/html": [
       "<div>\n",
       "<style scoped>\n",
       "    .dataframe tbody tr th:only-of-type {\n",
       "        vertical-align: middle;\n",
       "    }\n",
       "\n",
       "    .dataframe tbody tr th {\n",
       "        vertical-align: top;\n",
       "    }\n",
       "\n",
       "    .dataframe thead th {\n",
       "        text-align: right;\n",
       "    }\n",
       "</style>\n",
       "<table border=\"1\" class=\"dataframe\">\n",
       "  <thead>\n",
       "    <tr style=\"text-align: right;\">\n",
       "      <th></th>\n",
       "      <th>year</th>\n",
       "      <th>pages</th>\n",
       "      <th>volume</th>\n",
       "      <th>journal</th>\n",
       "      <th>doi</th>\n",
       "      <th>reportnumber</th>\n",
       "      <th>primaryclass</th>\n",
       "      <th>archiveprefix</th>\n",
       "      <th>eprint</th>\n",
       "      <th>title</th>\n",
       "      <th>collaboration</th>\n",
       "      <th>author</th>\n",
       "      <th>ENTRYTYPE</th>\n",
       "      <th>ID</th>\n",
       "      <th>number</th>\n",
       "      <th>note</th>\n",
       "      <th>Factor</th>\n",
       "      <th>Journal name</th>\n",
       "    </tr>\n",
       "  </thead>\n",
       "  <tbody>\n",
       "    <tr>\n",
       "      <th>0</th>\n",
       "      <td>2022</td>\n",
       "      <td>087</td>\n",
       "      <td>08</td>\n",
       "      <td>JHEP</td>\n",
       "      <td>10.1007/JHEP08(2022)087</td>\n",
       "      <td>CERN-EP-2022-025</td>\n",
       "      <td>hep-ex</td>\n",
       "      <td>arXiv</td>\n",
       "      <td>2203.01808</td>\n",
       "      <td>{Study of $ {\\mathrm{B}}_{\\mathrm{c}}^{+}\\to \\...</td>\n",
       "      <td>ATLAS</td>\n",
       "      <td>Aad, Georges and others</td>\n",
       "      <td>article</td>\n",
       "      <td>ATLAS:2022aiy</td>\n",
       "      <td>NaN</td>\n",
       "      <td>NaN</td>\n",
       "      <td>A1</td>\n",
       "      <td>Journal of High Energy Physics</td>\n",
       "    </tr>\n",
       "    <tr>\n",
       "      <th>130</th>\n",
       "      <td>2020</td>\n",
       "      <td>222002</td>\n",
       "      <td>124</td>\n",
       "      <td>Phys. Rev. Lett.</td>\n",
       "      <td>10.1103/PhysRevLett.124.222002</td>\n",
       "      <td>CERN-EP-2020-030</td>\n",
       "      <td>hep-ex</td>\n",
       "      <td>arXiv</td>\n",
       "      <td>2004.03540</td>\n",
       "      <td>{Measurement of the Lund Jet Plane Using Charg...</td>\n",
       "      <td>ATLAS</td>\n",
       "      <td>Aad, Georges and others</td>\n",
       "      <td>article</td>\n",
       "      <td>ATLAS:2020bbn</td>\n",
       "      <td>22</td>\n",
       "      <td>NaN</td>\n",
       "      <td>A1</td>\n",
       "      <td>PHYSICAL REVIEW LETTERS</td>\n",
       "    </tr>\n",
       "    <tr>\n",
       "      <th>127</th>\n",
       "      <td>2020</td>\n",
       "      <td>061802</td>\n",
       "      <td>125</td>\n",
       "      <td>Phys. Rev. Lett.</td>\n",
       "      <td>10.1103/PhysRevLett.125.061802</td>\n",
       "      <td>CERN-EP-2020-046</td>\n",
       "      <td>hep-ex</td>\n",
       "      <td>arXiv</td>\n",
       "      <td>2004.04545</td>\n",
       "      <td>{$CP$ Properties of Higgs Boson Interactions w...</td>\n",
       "      <td>ATLAS</td>\n",
       "      <td>Aad, Georges and others</td>\n",
       "      <td>article</td>\n",
       "      <td>ATLAS:2020ior</td>\n",
       "      <td>6</td>\n",
       "      <td>NaN</td>\n",
       "      <td>A1</td>\n",
       "      <td>PHYSICAL REVIEW LETTERS</td>\n",
       "    </tr>\n",
       "    <tr>\n",
       "      <th>126</th>\n",
       "      <td>2020</td>\n",
       "      <td>005</td>\n",
       "      <td>10</td>\n",
       "      <td>JHEP</td>\n",
       "      <td>10.1007/JHEP10(2020)005</td>\n",
       "      <td>CERN-EP-2019-204</td>\n",
       "      <td>hep-ex</td>\n",
       "      <td>arXiv</td>\n",
       "      <td>2004.10894</td>\n",
       "      <td>{Search for direct production of electroweakin...</td>\n",
       "      <td>ATLAS</td>\n",
       "      <td>Aad, Georges and others</td>\n",
       "      <td>article</td>\n",
       "      <td>ATLAS:2020qlk</td>\n",
       "      <td>NaN</td>\n",
       "      <td>NaN</td>\n",
       "      <td>A1</td>\n",
       "      <td>Journal of High Energy Physics</td>\n",
       "    </tr>\n",
       "    <tr>\n",
       "      <th>122</th>\n",
       "      <td>2020</td>\n",
       "      <td>131801</td>\n",
       "      <td>125</td>\n",
       "      <td>Phys. Rev. Lett.</td>\n",
       "      <td>10.1103/PhysRevLett.125.131801</td>\n",
       "      <td>CERN-EP-2020-062</td>\n",
       "      <td>hep-ex</td>\n",
       "      <td>arXiv</td>\n",
       "      <td>2005.02983</td>\n",
       "      <td>{Dijet resonance search with weak supervision ...</td>\n",
       "      <td>ATLAS</td>\n",
       "      <td>Aad, Georges and others</td>\n",
       "      <td>article</td>\n",
       "      <td>ATLAS:2020iwa</td>\n",
       "      <td>13</td>\n",
       "      <td>NaN</td>\n",
       "      <td>A1</td>\n",
       "      <td>PHYSICAL REVIEW LETTERS</td>\n",
       "    </tr>\n",
       "  </tbody>\n",
       "</table>\n",
       "</div>"
      ],
      "text/plain": [
       "     year   pages volume           journal                             doi  \\\n",
       "0    2022     087     08              JHEP         10.1007/JHEP08(2022)087   \n",
       "130  2020  222002    124  Phys. Rev. Lett.  10.1103/PhysRevLett.124.222002   \n",
       "127  2020  061802    125  Phys. Rev. Lett.  10.1103/PhysRevLett.125.061802   \n",
       "126  2020     005     10              JHEP         10.1007/JHEP10(2020)005   \n",
       "122  2020  131801    125  Phys. Rev. Lett.  10.1103/PhysRevLett.125.131801   \n",
       "\n",
       "         reportnumber primaryclass archiveprefix      eprint  \\\n",
       "0    CERN-EP-2022-025       hep-ex         arXiv  2203.01808   \n",
       "130  CERN-EP-2020-030       hep-ex         arXiv  2004.03540   \n",
       "127  CERN-EP-2020-046       hep-ex         arXiv  2004.04545   \n",
       "126  CERN-EP-2019-204       hep-ex         arXiv  2004.10894   \n",
       "122  CERN-EP-2020-062       hep-ex         arXiv  2005.02983   \n",
       "\n",
       "                                                 title collaboration  \\\n",
       "0    {Study of $ {\\mathrm{B}}_{\\mathrm{c}}^{+}\\to \\...         ATLAS   \n",
       "130  {Measurement of the Lund Jet Plane Using Charg...         ATLAS   \n",
       "127  {$CP$ Properties of Higgs Boson Interactions w...         ATLAS   \n",
       "126  {Search for direct production of electroweakin...         ATLAS   \n",
       "122  {Dijet resonance search with weak supervision ...         ATLAS   \n",
       "\n",
       "                      author ENTRYTYPE             ID number note Factor  \\\n",
       "0    Aad, Georges and others   article  ATLAS:2022aiy    NaN  NaN     A1   \n",
       "130  Aad, Georges and others   article  ATLAS:2020bbn     22  NaN     A1   \n",
       "127  Aad, Georges and others   article  ATLAS:2020ior      6  NaN     A1   \n",
       "126  Aad, Georges and others   article  ATLAS:2020qlk    NaN  NaN     A1   \n",
       "122  Aad, Georges and others   article  ATLAS:2020iwa     13  NaN     A1   \n",
       "\n",
       "                       Journal name  \n",
       "0    Journal of High Energy Physics  \n",
       "130         PHYSICAL REVIEW LETTERS  \n",
       "127         PHYSICAL REVIEW LETTERS  \n",
       "126  Journal of High Energy Physics  \n",
       "122         PHYSICAL REVIEW LETTERS  "
      ]
     },
     "execution_count": 15,
     "metadata": {},
     "output_type": "execute_result"
    }
   ],
   "source": [
    "my_articles.head()"
   ]
  },
  {
   "cell_type": "code",
   "execution_count": 16,
   "id": "f1eac8be-08a4-4964-8097-83313453c482",
   "metadata": {},
   "outputs": [],
   "source": [
    "my_articles.to_excel(\"articles.xlsx\", sheet_name='Articles') "
   ]
  },
  {
   "cell_type": "code",
   "execution_count": null,
   "id": "913954e5-ff3a-456f-bcc9-e6264b0afce9",
   "metadata": {},
   "outputs": [],
   "source": []
  },
  {
   "cell_type": "code",
   "execution_count": 36,
   "id": "caf50313-3ff7-48b0-8dad-c6612f76d2e6",
   "metadata": {},
   "outputs": [],
   "source": [
    "path = '2203.01808v2.Study_of_B_c_to_J_ψD_s_and_B_c_to_J_ψD_s_decays_in_pp_collisions_at_sqrt_s_13_TeV_with_the_ATLAS_detector.pdf'\n",
    "writer = PdfFileWriter()\n",
    "reader = PdfFileReader(path)\n",
    "page = reader.getPage(0)\n",
    "writer.addPage(page)\n",
    "with open(\"test.pdf\", \"wb\") as output:\n",
    "    writer.write(output)"
   ]
  },
  {
   "cell_type": "code",
   "execution_count": null,
   "id": "33f1e4fd-2b38-4992-a2cb-6e6cba4839b7",
   "metadata": {},
   "outputs": [],
   "source": []
  },
  {
   "cell_type": "code",
   "execution_count": null,
   "id": "19482536-1999-4951-9f1d-d3650cf726bb",
   "metadata": {},
   "outputs": [],
   "source": []
  },
  {
   "cell_type": "code",
   "execution_count": null,
   "id": "f98795f3-6233-49aa-ac8a-9a9a7ffadee3",
   "metadata": {},
   "outputs": [],
   "source": []
  },
  {
   "cell_type": "code",
   "execution_count": 33,
   "id": "39401c42-0832-4f9f-8076-aaba5d04fb80",
   "metadata": {},
   "outputs": [
    {
     "name": "stderr",
     "output_type": "stream",
     "text": [
      "1it [00:12, 12.49s/it]\n"
     ]
    },
    {
     "ename": "KeyboardInterrupt",
     "evalue": "",
     "output_type": "error",
     "traceback": [
      "\u001b[0;31m---------------------------------------------------------------------------\u001b[0m",
      "\u001b[0;31mKeyboardInterrupt\u001b[0m                         Traceback (most recent call last)",
      "\u001b[0;32m<ipython-input-33-41c10d370072>\u001b[0m in \u001b[0;36m<module>\u001b[0;34m\u001b[0m\n\u001b[1;32m      2\u001b[0m     \u001b[0mpaper\u001b[0m \u001b[0;34m=\u001b[0m \u001b[0mnext\u001b[0m\u001b[0;34m(\u001b[0m\u001b[0marxiv\u001b[0m\u001b[0;34m.\u001b[0m\u001b[0mSearch\u001b[0m\u001b[0;34m(\u001b[0m\u001b[0mid_list\u001b[0m\u001b[0;34m=\u001b[0m\u001b[0;34m[\u001b[0m\u001b[0mrow\u001b[0m\u001b[0;34m.\u001b[0m\u001b[0meprint\u001b[0m\u001b[0;34m]\u001b[0m\u001b[0;34m)\u001b[0m\u001b[0;34m.\u001b[0m\u001b[0mresults\u001b[0m\u001b[0;34m(\u001b[0m\u001b[0;34m)\u001b[0m\u001b[0;34m)\u001b[0m\u001b[0;34m\u001b[0m\u001b[0;34m\u001b[0m\u001b[0m\n\u001b[1;32m      3\u001b[0m     \u001b[0;31m# Download the PDF to the PWD with a default filename.\u001b[0m\u001b[0;34m\u001b[0m\u001b[0;34m\u001b[0m\u001b[0;34m\u001b[0m\u001b[0m\n\u001b[0;32m----> 4\u001b[0;31m     \u001b[0mpaper\u001b[0m\u001b[0;34m.\u001b[0m\u001b[0mdownload_pdf\u001b[0m\u001b[0;34m(\u001b[0m\u001b[0;34m)\u001b[0m\u001b[0;34m\u001b[0m\u001b[0;34m\u001b[0m\u001b[0m\n\u001b[0m",
      "\u001b[0;32m/usr/local/lib/python3.9/site-packages/arxiv/arxiv.py\u001b[0m in \u001b[0;36mdownload_pdf\u001b[0;34m(self, dirpath, filename)\u001b[0m\n\u001b[1;32m    204\u001b[0m             \u001b[0mfilename\u001b[0m \u001b[0;34m=\u001b[0m \u001b[0mself\u001b[0m\u001b[0;34m.\u001b[0m\u001b[0m_get_default_filename\u001b[0m\u001b[0;34m(\u001b[0m\u001b[0;34m)\u001b[0m\u001b[0;34m\u001b[0m\u001b[0;34m\u001b[0m\u001b[0m\n\u001b[1;32m    205\u001b[0m         \u001b[0mpath\u001b[0m \u001b[0;34m=\u001b[0m \u001b[0mos\u001b[0m\u001b[0;34m.\u001b[0m\u001b[0mpath\u001b[0m\u001b[0;34m.\u001b[0m\u001b[0mjoin\u001b[0m\u001b[0;34m(\u001b[0m\u001b[0mdirpath\u001b[0m\u001b[0;34m,\u001b[0m \u001b[0mfilename\u001b[0m\u001b[0;34m)\u001b[0m\u001b[0;34m\u001b[0m\u001b[0;34m\u001b[0m\u001b[0m\n\u001b[0;32m--> 206\u001b[0;31m         \u001b[0mwritten_path\u001b[0m\u001b[0;34m,\u001b[0m \u001b[0m_\u001b[0m \u001b[0;34m=\u001b[0m \u001b[0murlretrieve\u001b[0m\u001b[0;34m(\u001b[0m\u001b[0mself\u001b[0m\u001b[0;34m.\u001b[0m\u001b[0mpdf_url\u001b[0m\u001b[0;34m,\u001b[0m \u001b[0mpath\u001b[0m\u001b[0;34m)\u001b[0m\u001b[0;34m\u001b[0m\u001b[0;34m\u001b[0m\u001b[0m\n\u001b[0m\u001b[1;32m    207\u001b[0m         \u001b[0;32mreturn\u001b[0m \u001b[0mwritten_path\u001b[0m\u001b[0;34m\u001b[0m\u001b[0;34m\u001b[0m\u001b[0m\n\u001b[1;32m    208\u001b[0m \u001b[0;34m\u001b[0m\u001b[0m\n",
      "\u001b[0;32m/usr/local/Cellar/python@3.9/3.9.6/Frameworks/Python.framework/Versions/3.9/lib/python3.9/urllib/request.py\u001b[0m in \u001b[0;36murlretrieve\u001b[0;34m(url, filename, reporthook, data)\u001b[0m\n\u001b[1;32m    266\u001b[0m \u001b[0;34m\u001b[0m\u001b[0m\n\u001b[1;32m    267\u001b[0m             \u001b[0;32mwhile\u001b[0m \u001b[0;32mTrue\u001b[0m\u001b[0;34m:\u001b[0m\u001b[0;34m\u001b[0m\u001b[0;34m\u001b[0m\u001b[0m\n\u001b[0;32m--> 268\u001b[0;31m                 \u001b[0mblock\u001b[0m \u001b[0;34m=\u001b[0m \u001b[0mfp\u001b[0m\u001b[0;34m.\u001b[0m\u001b[0mread\u001b[0m\u001b[0;34m(\u001b[0m\u001b[0mbs\u001b[0m\u001b[0;34m)\u001b[0m\u001b[0;34m\u001b[0m\u001b[0;34m\u001b[0m\u001b[0m\n\u001b[0m\u001b[1;32m    269\u001b[0m                 \u001b[0;32mif\u001b[0m \u001b[0;32mnot\u001b[0m \u001b[0mblock\u001b[0m\u001b[0;34m:\u001b[0m\u001b[0;34m\u001b[0m\u001b[0;34m\u001b[0m\u001b[0m\n\u001b[1;32m    270\u001b[0m                     \u001b[0;32mbreak\u001b[0m\u001b[0;34m\u001b[0m\u001b[0;34m\u001b[0m\u001b[0m\n",
      "\u001b[0;32m/usr/local/Cellar/python@3.9/3.9.6/Frameworks/Python.framework/Versions/3.9/lib/python3.9/http/client.py\u001b[0m in \u001b[0;36mread\u001b[0;34m(self, amt)\u001b[0m\n\u001b[1;32m    457\u001b[0m             \u001b[0;31m# Amount is given, implement using readinto\u001b[0m\u001b[0;34m\u001b[0m\u001b[0;34m\u001b[0m\u001b[0;34m\u001b[0m\u001b[0m\n\u001b[1;32m    458\u001b[0m             \u001b[0mb\u001b[0m \u001b[0;34m=\u001b[0m \u001b[0mbytearray\u001b[0m\u001b[0;34m(\u001b[0m\u001b[0mamt\u001b[0m\u001b[0;34m)\u001b[0m\u001b[0;34m\u001b[0m\u001b[0;34m\u001b[0m\u001b[0m\n\u001b[0;32m--> 459\u001b[0;31m             \u001b[0mn\u001b[0m \u001b[0;34m=\u001b[0m \u001b[0mself\u001b[0m\u001b[0;34m.\u001b[0m\u001b[0mreadinto\u001b[0m\u001b[0;34m(\u001b[0m\u001b[0mb\u001b[0m\u001b[0;34m)\u001b[0m\u001b[0;34m\u001b[0m\u001b[0;34m\u001b[0m\u001b[0m\n\u001b[0m\u001b[1;32m    460\u001b[0m             \u001b[0;32mreturn\u001b[0m \u001b[0mmemoryview\u001b[0m\u001b[0;34m(\u001b[0m\u001b[0mb\u001b[0m\u001b[0;34m)\u001b[0m\u001b[0;34m[\u001b[0m\u001b[0;34m:\u001b[0m\u001b[0mn\u001b[0m\u001b[0;34m]\u001b[0m\u001b[0;34m.\u001b[0m\u001b[0mtobytes\u001b[0m\u001b[0;34m(\u001b[0m\u001b[0;34m)\u001b[0m\u001b[0;34m\u001b[0m\u001b[0;34m\u001b[0m\u001b[0m\n\u001b[1;32m    461\u001b[0m         \u001b[0;32melse\u001b[0m\u001b[0;34m:\u001b[0m\u001b[0;34m\u001b[0m\u001b[0;34m\u001b[0m\u001b[0m\n",
      "\u001b[0;32m/usr/local/Cellar/python@3.9/3.9.6/Frameworks/Python.framework/Versions/3.9/lib/python3.9/http/client.py\u001b[0m in \u001b[0;36mreadinto\u001b[0;34m(self, b)\u001b[0m\n\u001b[1;32m    501\u001b[0m         \u001b[0;31m# connection, and the user is reading more bytes than will be provided\u001b[0m\u001b[0;34m\u001b[0m\u001b[0;34m\u001b[0m\u001b[0;34m\u001b[0m\u001b[0m\n\u001b[1;32m    502\u001b[0m         \u001b[0;31m# (for example, reading in 1k chunks)\u001b[0m\u001b[0;34m\u001b[0m\u001b[0;34m\u001b[0m\u001b[0;34m\u001b[0m\u001b[0m\n\u001b[0;32m--> 503\u001b[0;31m         \u001b[0mn\u001b[0m \u001b[0;34m=\u001b[0m \u001b[0mself\u001b[0m\u001b[0;34m.\u001b[0m\u001b[0mfp\u001b[0m\u001b[0;34m.\u001b[0m\u001b[0mreadinto\u001b[0m\u001b[0;34m(\u001b[0m\u001b[0mb\u001b[0m\u001b[0;34m)\u001b[0m\u001b[0;34m\u001b[0m\u001b[0;34m\u001b[0m\u001b[0m\n\u001b[0m\u001b[1;32m    504\u001b[0m         \u001b[0;32mif\u001b[0m \u001b[0;32mnot\u001b[0m \u001b[0mn\u001b[0m \u001b[0;32mand\u001b[0m \u001b[0mb\u001b[0m\u001b[0;34m:\u001b[0m\u001b[0;34m\u001b[0m\u001b[0;34m\u001b[0m\u001b[0m\n\u001b[1;32m    505\u001b[0m             \u001b[0;31m# Ideally, we would raise IncompleteRead if the content-length\u001b[0m\u001b[0;34m\u001b[0m\u001b[0;34m\u001b[0m\u001b[0;34m\u001b[0m\u001b[0m\n",
      "\u001b[0;32m/usr/local/Cellar/python@3.9/3.9.6/Frameworks/Python.framework/Versions/3.9/lib/python3.9/socket.py\u001b[0m in \u001b[0;36mreadinto\u001b[0;34m(self, b)\u001b[0m\n\u001b[1;32m    702\u001b[0m         \u001b[0;32mwhile\u001b[0m \u001b[0;32mTrue\u001b[0m\u001b[0;34m:\u001b[0m\u001b[0;34m\u001b[0m\u001b[0;34m\u001b[0m\u001b[0m\n\u001b[1;32m    703\u001b[0m             \u001b[0;32mtry\u001b[0m\u001b[0;34m:\u001b[0m\u001b[0;34m\u001b[0m\u001b[0;34m\u001b[0m\u001b[0m\n\u001b[0;32m--> 704\u001b[0;31m                 \u001b[0;32mreturn\u001b[0m \u001b[0mself\u001b[0m\u001b[0;34m.\u001b[0m\u001b[0m_sock\u001b[0m\u001b[0;34m.\u001b[0m\u001b[0mrecv_into\u001b[0m\u001b[0;34m(\u001b[0m\u001b[0mb\u001b[0m\u001b[0;34m)\u001b[0m\u001b[0;34m\u001b[0m\u001b[0;34m\u001b[0m\u001b[0m\n\u001b[0m\u001b[1;32m    705\u001b[0m             \u001b[0;32mexcept\u001b[0m \u001b[0mtimeout\u001b[0m\u001b[0;34m:\u001b[0m\u001b[0;34m\u001b[0m\u001b[0;34m\u001b[0m\u001b[0m\n\u001b[1;32m    706\u001b[0m                 \u001b[0mself\u001b[0m\u001b[0;34m.\u001b[0m\u001b[0m_timeout_occurred\u001b[0m \u001b[0;34m=\u001b[0m \u001b[0;32mTrue\u001b[0m\u001b[0;34m\u001b[0m\u001b[0;34m\u001b[0m\u001b[0m\n",
      "\u001b[0;32m/usr/local/Cellar/python@3.9/3.9.6/Frameworks/Python.framework/Versions/3.9/lib/python3.9/ssl.py\u001b[0m in \u001b[0;36mrecv_into\u001b[0;34m(self, buffer, nbytes, flags)\u001b[0m\n\u001b[1;32m   1239\u001b[0m                   \u001b[0;34m\"non-zero flags not allowed in calls to recv_into() on %s\"\u001b[0m \u001b[0;34m%\u001b[0m\u001b[0;34m\u001b[0m\u001b[0;34m\u001b[0m\u001b[0m\n\u001b[1;32m   1240\u001b[0m                   self.__class__)\n\u001b[0;32m-> 1241\u001b[0;31m             \u001b[0;32mreturn\u001b[0m \u001b[0mself\u001b[0m\u001b[0;34m.\u001b[0m\u001b[0mread\u001b[0m\u001b[0;34m(\u001b[0m\u001b[0mnbytes\u001b[0m\u001b[0;34m,\u001b[0m \u001b[0mbuffer\u001b[0m\u001b[0;34m)\u001b[0m\u001b[0;34m\u001b[0m\u001b[0;34m\u001b[0m\u001b[0m\n\u001b[0m\u001b[1;32m   1242\u001b[0m         \u001b[0;32melse\u001b[0m\u001b[0;34m:\u001b[0m\u001b[0;34m\u001b[0m\u001b[0;34m\u001b[0m\u001b[0m\n\u001b[1;32m   1243\u001b[0m             \u001b[0;32mreturn\u001b[0m \u001b[0msuper\u001b[0m\u001b[0;34m(\u001b[0m\u001b[0;34m)\u001b[0m\u001b[0;34m.\u001b[0m\u001b[0mrecv_into\u001b[0m\u001b[0;34m(\u001b[0m\u001b[0mbuffer\u001b[0m\u001b[0;34m,\u001b[0m \u001b[0mnbytes\u001b[0m\u001b[0;34m,\u001b[0m \u001b[0mflags\u001b[0m\u001b[0;34m)\u001b[0m\u001b[0;34m\u001b[0m\u001b[0;34m\u001b[0m\u001b[0m\n",
      "\u001b[0;32m/usr/local/Cellar/python@3.9/3.9.6/Frameworks/Python.framework/Versions/3.9/lib/python3.9/ssl.py\u001b[0m in \u001b[0;36mread\u001b[0;34m(self, len, buffer)\u001b[0m\n\u001b[1;32m   1097\u001b[0m         \u001b[0;32mtry\u001b[0m\u001b[0;34m:\u001b[0m\u001b[0;34m\u001b[0m\u001b[0;34m\u001b[0m\u001b[0m\n\u001b[1;32m   1098\u001b[0m             \u001b[0;32mif\u001b[0m \u001b[0mbuffer\u001b[0m \u001b[0;32mis\u001b[0m \u001b[0;32mnot\u001b[0m \u001b[0;32mNone\u001b[0m\u001b[0;34m:\u001b[0m\u001b[0;34m\u001b[0m\u001b[0;34m\u001b[0m\u001b[0m\n\u001b[0;32m-> 1099\u001b[0;31m                 \u001b[0;32mreturn\u001b[0m \u001b[0mself\u001b[0m\u001b[0;34m.\u001b[0m\u001b[0m_sslobj\u001b[0m\u001b[0;34m.\u001b[0m\u001b[0mread\u001b[0m\u001b[0;34m(\u001b[0m\u001b[0mlen\u001b[0m\u001b[0;34m,\u001b[0m \u001b[0mbuffer\u001b[0m\u001b[0;34m)\u001b[0m\u001b[0;34m\u001b[0m\u001b[0;34m\u001b[0m\u001b[0m\n\u001b[0m\u001b[1;32m   1100\u001b[0m             \u001b[0;32melse\u001b[0m\u001b[0;34m:\u001b[0m\u001b[0;34m\u001b[0m\u001b[0;34m\u001b[0m\u001b[0m\n\u001b[1;32m   1101\u001b[0m                 \u001b[0;32mreturn\u001b[0m \u001b[0mself\u001b[0m\u001b[0;34m.\u001b[0m\u001b[0m_sslobj\u001b[0m\u001b[0;34m.\u001b[0m\u001b[0mread\u001b[0m\u001b[0;34m(\u001b[0m\u001b[0mlen\u001b[0m\u001b[0;34m)\u001b[0m\u001b[0;34m\u001b[0m\u001b[0;34m\u001b[0m\u001b[0m\n",
      "\u001b[0;31mKeyboardInterrupt\u001b[0m: "
     ]
    }
   ],
   "source": [
    "for _,row in tqdm(my_articles.iterrows()):\n",
    "    paper = next(arxiv.Search(id_list=[row.eprint]).results())\n",
    "    # Download the PDF to the PWD with a default filename.\n",
    "    paper.download_pdf()"
   ]
  },
  {
   "cell_type": "code",
   "execution_count": 22,
   "id": "b89f3d06-329a-4a2b-897b-c2df106bb379",
   "metadata": {},
   "outputs": [
    {
     "data": {
      "text/plain": [
       "'./1605.08386v1.Heat_bath_random_walks_with_Markov_bases.pdf'"
      ]
     },
     "execution_count": 22,
     "metadata": {},
     "output_type": "execute_result"
    }
   ],
   "source": [
    "paper = next(arxiv.Search(id_list=[\"1605.08386v1\"]).results())\n",
    "# Download the PDF to the PWD with a default filename.\n",
    "paper.download_pdf()"
   ]
  },
  {
   "cell_type": "code",
   "execution_count": null,
   "id": "e3124b8d-d406-45da-b48a-3b1072e676f5",
   "metadata": {},
   "outputs": [],
   "source": []
  },
  {
   "cell_type": "code",
   "execution_count": null,
   "id": "dd3439bc-2f97-425a-87ce-59c5765bc6b1",
   "metadata": {},
   "outputs": [],
   "source": []
  },
  {
   "cell_type": "code",
   "execution_count": null,
   "id": "eaa80a04-8e2f-4430-8bfd-0454c9bcdbd7",
   "metadata": {},
   "outputs": [],
   "source": []
  },
  {
   "cell_type": "code",
   "execution_count": null,
   "id": "971426b1-ec27-44fb-9c08-c912edb0fbfd",
   "metadata": {},
   "outputs": [],
   "source": []
  },
  {
   "cell_type": "markdown",
   "id": "ff47db31-1546-48c3-a6b0-7419932ba891",
   "metadata": {},
   "source": [
    "## How many points?"
   ]
  },
  {
   "cell_type": "code",
   "execution_count": 17,
   "id": "9f9e3a15-3fe7-44c7-8a2e-0f3d781aa740",
   "metadata": {},
   "outputs": [],
   "source": [
    "many_to_one = 1"
   ]
  },
  {
   "cell_type": "code",
   "execution_count": 18,
   "id": "66e284d9-647b-415a-9886-e36a2101861f",
   "metadata": {},
   "outputs": [
    {
     "name": "stdout",
     "output_type": "stream",
     "text": [
      "231.1\n"
     ]
    }
   ],
   "source": [
    "count = int(my_articles.loc[my_articles['Factor']=='A1'].shape[0]/many_to_one) * 2\n",
    "count+= int(my_articles.loc[my_df['Factor']=='A2'].shape[0]/many_to_one) * 1.8\n",
    "count+= int(my_articles.loc[my_articles['Factor']=='B1'].shape[0]/many_to_one) * 0.5\n",
    "print(count)"
   ]
  },
  {
   "cell_type": "code",
   "execution_count": 19,
   "id": "5aa71644-4827-4793-8eda-88fc86e86cbc",
   "metadata": {},
   "outputs": [
    {
     "data": {
      "text/plain": [
       "84"
      ]
     },
     "execution_count": 19,
     "metadata": {},
     "output_type": "execute_result"
    }
   ],
   "source": [
    " my_articles.loc[my_articles['Factor']=='A1'].shape[0]"
   ]
  },
  {
   "cell_type": "code",
   "execution_count": 20,
   "id": "94c4d431-5e1e-4e83-90e3-07ccce8a2a41",
   "metadata": {},
   "outputs": [
    {
     "data": {
      "text/plain": [
       "32"
      ]
     },
     "execution_count": 20,
     "metadata": {},
     "output_type": "execute_result"
    }
   ],
   "source": [
    " my_articles.loc[my_articles['Factor']=='A2'].shape[0]"
   ]
  },
  {
   "cell_type": "code",
   "execution_count": 21,
   "id": "ac27accd-5985-41c7-8535-9adbf95c2ecd",
   "metadata": {},
   "outputs": [
    {
     "data": {
      "text/plain": [
       "11"
      ]
     },
     "execution_count": 21,
     "metadata": {},
     "output_type": "execute_result"
    }
   ],
   "source": [
    " my_articles.loc[my_articles['Factor']=='B1'].shape[0]"
   ]
  },
  {
   "cell_type": "code",
   "execution_count": null,
   "id": "b08148e4-94ac-4213-a1bb-a692d1ede6df",
   "metadata": {},
   "outputs": [],
   "source": [
    "def plot(x)\n",
    "    n_bins = 20\n",
    "    plt.hist(x, n_bins, density = True, \n",
    "         histtype ='bar')"
   ]
  },
  {
   "cell_type": "code",
   "execution_count": null,
   "id": "718439c1-3015-4229-b76f-d786cd252a59",
   "metadata": {},
   "outputs": [],
   "source": []
  },
  {
   "cell_type": "code",
   "execution_count": 38,
   "id": "194945f4-5601-4ebc-b9bf-15d0be24480f",
   "metadata": {},
   "outputs": [],
   "source": [
    "import numpy as np\n",
    "import matplotlib.pyplot as plt\n"
   ]
  },
  {
   "cell_type": "code",
   "execution_count": null,
   "id": "4d6ae09f-86d9-4ce6-b2aa-fc86f2c6e135",
   "metadata": {},
   "outputs": [],
   "source": [
    "s = np.random.uniform(-1,0,1000)"
   ]
  },
  {
   "cell_type": "code",
   "execution_count": null,
   "id": "89371ad4-3f25-4161-9788-ecc7b2c619de",
   "metadata": {},
   "outputs": [],
   "source": []
  },
  {
   "cell_type": "code",
   "execution_count": null,
   "id": "3bce88f9-5bf1-45b5-ad95-cb22f271a87b",
   "metadata": {},
   "outputs": [],
   "source": []
  },
  {
   "cell_type": "code",
   "execution_count": null,
   "id": "7d8bca0b-cce8-443a-9343-e3e3ed3b5d03",
   "metadata": {},
   "outputs": [],
   "source": []
  },
  {
   "cell_type": "code",
   "execution_count": null,
   "id": "f4c42f73-8386-4f6c-9b0a-e7dd6270b8de",
   "metadata": {},
   "outputs": [],
   "source": []
  }
 ],
 "metadata": {
  "kernelspec": {
   "display_name": "Python 3",
   "language": "python",
   "name": "python3"
  },
  "language_info": {
   "codemirror_mode": {
    "name": "ipython",
    "version": 3
   },
   "file_extension": ".py",
   "mimetype": "text/x-python",
   "name": "python",
   "nbconvert_exporter": "python",
   "pygments_lexer": "ipython3",
   "version": "3.9.6"
  }
 },
 "nbformat": 4,
 "nbformat_minor": 5
}
